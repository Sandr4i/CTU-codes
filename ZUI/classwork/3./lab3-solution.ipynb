version https://git-lfs.github.com/spec/v1
oid sha256:24bec886f9315a190b9c0faa2ebc72982dd7f1deec3dad4a5b0af7c2df66e1ae
size 57507
