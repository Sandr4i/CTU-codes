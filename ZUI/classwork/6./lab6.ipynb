{
 "cells": [
  {
   "cell_type": "markdown",
   "metadata": {
    "id": "SlGWshxeziHg"
   },
   "source": [
    "# Lab 6: value iteration"
   ]
  },
  {
   "cell_type": "markdown",
   "metadata": {
    "id": "p2CjRcm_KIcT"
   },
   "source": [
    "## Frozen Lake"
   ]
  },
  {
   "attachments": {},
   "cell_type": "markdown",
   "metadata": {
    "id": "siEBTPHjMHfk"
   },
   "source": [
    "Let's look at a Frozen Lake environment. It's a grid-world with a goal and a chance that some movements will slip and perform a random action. Moreover, there are some dangerous areas that terminate the episode with large penalty.\n",
    "\n",
    "Let's have a such environment:\n",
    "- Illegal state cannot be visited by the agent. This is for example the wall ('#' symbol).\n",
    "- Terminal state is absorbing, there are no transitions leading from the state - game ends when it is visited by the agent. Note that walls ('#' symbol) are terminal states as well, although they can never be accessed by the agent."
   ]
  },
  {
   "cell_type": "code",
   "execution_count": 1,
   "metadata": {
    "id": "GhnuPLmTsDfn"
   },
   "outputs": [],
   "source": [
    "import numpy as np, random\n",
    "import matplotlib.pyplot as plt\n",
    "from typing import List, Tuple\n",
    "\n",
    "#set random seed.\n",
    "random.seed(0)\n",
    "np.random.seed(0)\n",
    "\n",
    "example_map =  [\"#########\",\n",
    "                \"#       #\",\n",
    "                \"#       #\",\n",
    "                \"# ooooo #\",\n",
    "                \"#   #  G#\",\n",
    "                \"#########\"]\n",
    "\n",
    "# # = wall\n",
    "# G = goal\n",
    "# o = pit\n",
    "\n",
    "Action = str # Action corresponds to a movement ['^', 'v', '<', '>'].\n",
    "State = Tuple[int, int]  # State corresponds to a coordinate in the map.\n",
    "\n",
    "class FrozenLake():\n",
    "  ILLEGAL  = {\"#\"}\n",
    "  TERMINAL = {\"o\", \"G\", \"#\"}\n",
    "  REWARDS  = {\n",
    "    \"#\": -0.1,\n",
    "    \" \": -0.1,\n",
    "    \"G\":  1,\n",
    "    \"o\": -10\n",
    "    }\n",
    "  MOVE_DIFFS = {\n",
    "    '^': [-1,  0], # Move up.\n",
    "    '<': [ 0, -1], # Move down.\n",
    "    '>': [ 0,  1], # Move left.\n",
    "    'v': [ 1,  0], # Move right.\n",
    "    }\n",
    "\n",
    "  def __init__(self, map: List[str], slip_probability: float):\n",
    "    self.map = [list(row) for row in map]\n",
    "    self.slip_probability = slip_probability \n",
    "\n",
    "  def num_rows(self) -> int:\n",
    "    return len(self.map)\n",
    "\n",
    "  def num_cols(self) -> int:\n",
    "    return len(self.map[0])\n",
    "\n",
    "  def actions(self) -> List[Action]:\n",
    "    ''' Return all possible actions '''\n",
    "    return self.MOVE_DIFFS.keys()\n",
    "\n",
    "  def get_non_terminal_states(self) -> List[State]:\n",
    "    ''' Return all non terminal states'''\n",
    "    non_terminal_states = []\n",
    "    for i in range(self.num_rows()):\n",
    "      for j in range(self.num_cols()):\n",
    "        if self.map[i][j] not in self.TERMINAL:\n",
    "          non_terminal_states.append((i,j))\n",
    "    return non_terminal_states\n",
    "\n",
    "  def get_transitions(self, state: State, action: Action) -> List[Tuple[State, float, float]]:\n",
    "    ''' Given state and action, return all probabilities of transitions. '''\n",
    "    transitions = []\n",
    "    if self.map[state[0]][state[1]] in self.TERMINAL:\n",
    "      return []\n",
    "\n",
    "    for a in self.actions():\n",
    "      di, dj = self.MOVE_DIFFS[a]\n",
    "      next_state = (state[0] + di, state[1] + dj)\n",
    "      \n",
    "      symbol = self.map[next_state[0]][next_state[1]]\n",
    "      if symbol in self.ILLEGAL:\n",
    "        next_state = state\n",
    "\n",
    "      reward = self.REWARDS[symbol]\n",
    "\n",
    "      if a == action:\n",
    "        prob = (1 - self.slip_probability) + (self.slip_probability / len(self.actions()))\n",
    "      else:\n",
    "        prob = self.slip_probability / len(self.actions())\n",
    "\n",
    "      transitions.append((next_state, prob, reward))\n",
    "    return transitions"
   ]
  },
  {
   "cell_type": "markdown",
   "metadata": {
    "id": "H5i0yS92UswR"
   },
   "source": [
    "Let's have a look at the transisitons form [3, 7] state with MOVE_DOWN (just up of the goal).\n",
    "\n"
   ]
  },
  {
   "cell_type": "code",
   "execution_count": 2,
   "metadata": {
    "colab": {
     "base_uri": "https://localhost:8080/"
    },
    "id": "DI6lp-cTUUaM",
    "outputId": "0bfe5697-c555-4021-91cb-b37377febd68"
   },
   "outputs": [
    {
     "data": {
      "text/plain": [
       "[((2, 7), 0.025, -0.1),\n",
       " ((3, 6), 0.025, -10),\n",
       " ([3, 7], 0.025, -0.1),\n",
       " ((4, 7), 0.925, 1)]"
      ]
     },
     "execution_count": 2,
     "metadata": {},
     "output_type": "execute_result"
    }
   ],
   "source": [
    "map = [\"#########\",\n",
    "       \"#       #\",\n",
    "       \"#       #\",\n",
    "       \"# ooooo #\",\n",
    "       \"#   #  G#\",\n",
    "       \"#########\"]\n",
    "\n",
    "lake = FrozenLake(map, slip_probability=0.1)\n",
    "lake.get_transitions([3, 7], 'v')"
   ]
  },
  {
   "cell_type": "markdown",
   "metadata": {
    "id": "NiW0EM2BqBtW"
   },
   "source": [
    "## Value Iteration"
   ]
  },
  {
   "cell_type": "markdown",
   "metadata": {
    "id": "TSOFsdflQZMe"
   },
   "source": [
    "Now, let's implement the Value Iteration algorithm. Remember how it goes:"
   ]
  },
  {
   "cell_type": "markdown",
   "metadata": {
    "id": "aOhD_BMPQfcd"
   },
   "source": [
    "![Screenshot from 2021-03-19 12-31-43.png](data:image/png;base64,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)"
   ]
  },
  {
   "cell_type": "code",
   "execution_count": null,
   "metadata": {
    "id": "r6782oPO6dmU"
   },
   "outputs": [],
   "source": [
    "# Auxiliary method to plot the values.\n",
    "def plot_v(v: np.array, labels=None):\n",
    "  im = plt.imshow(v, vmin=-2., vmax=1.)\n",
    "\n",
    "  if labels is None:\n",
    "    labels = v\n",
    "\n",
    "  # Loop over data dimensions and create text annotations.\n",
    "  for i in range(v.shape[0]):\n",
    "    for j in range(v.shape[1]):\n",
    "      if labels.dtype == np.float32:\n",
    "        label = f\"{labels[i, j]:.2f}\"\n",
    "      else:\n",
    "        label = labels[i, j]\n",
    "\n",
    "      text = plt.text(j, i, label, ha=\"center\", va=\"center\", color=\"w\")\n",
    "\n",
    "  plt.tight_layout()\n",
    "  plt.show()\n",
    "\n",
    "\n",
    "# Compute the expected value for transitions from the same state and current values v.\n",
    "# we'll call it like `get_expected_value( problem.get_transitions(s, a), v, gamma )`\n",
    "def get_expected_value(transitions: List[Tuple[State, float, float]], \n",
    "                       v: np.array, \n",
    "                       gamma: float) -> float:\n",
    "  # Task:\n",
    "  # - return expected reward for the list of transitions\n",
    "  # - we assume that the transitions come from problem.get_transitions()\n",
    "  #   and that their probabilities sum to one\n",
    "  v_exp = 0.0\n",
    "  for transition in transitions:\n",
    "    next_state, reward, probability = transition\n",
    "    v_exp += probability * (reward + gamma * v[next_state])\n",
    "\n",
    "\n",
    "  return v_exp\n",
    "\n",
    "# Run the value iteration algorithm.\n",
    "def value_iteration(problem: FrozenLake, gamma: float, threshold: float = 0.01):\n",
    "  v: np.array = np.zeros_like(problem.map, dtype=np.float32)\n",
    "  plot_v(v)\n",
    "\n",
    "  # Task:\n",
    "  # - implement the value iteration algorithm\n",
    "  # - hint: see the pseudocode above\n",
    "  while(threshold > 0):\n",
    "    for state in \n",
    "  return v"
   ]
  },
  {
   "cell_type": "markdown",
   "metadata": {
    "id": "3rI4AYEMghlx"
   },
   "source": [
    "Let's try it on a simple map:"
   ]
  },
  {
   "cell_type": "code",
   "execution_count": null,
   "metadata": {
    "colab": {
     "base_uri": "https://localhost:8080/",
     "height": 1000
    },
    "id": "2TPdLNdT8lpK",
    "outputId": "72d14183-b59e-4968-f296-6f8964aa7216"
   },
   "outputs": [],
   "source": [
    "GAMMA = 0.99\n",
    "SLIP_PROBABILITY = 0.1\n",
    "\n",
    "lake = FrozenLake(map, SLIP_PROBABILITY)\n",
    "v = value_iteration(lake,  GAMMA)"
   ]
  },
  {
   "cell_type": "markdown",
   "metadata": {
    "id": "nKNmzLTDgGqb"
   },
   "source": [
    "Look above at the graphs.\n",
    "\n",
    "**Question**: Why do we need set a discount factor ($\\gamma$)?\n",
    "\n",
    "\n",
    "**Question**: Why do the walls, the pit and goal have 0. value?\n",
    "\n",
    "\n",
    "**Question**: Why are the values high in the right bottom and low in left bottom?\n",
    "\n",
    "\n",
    "**Question**: In the step 1, explain how was the value at v[4, 1] = -0.1 computed.\n",
    "\n",
    "\n",
    "**Question**: In the step 1, explain how was the value at v[3, 1] = -0.35 computed.\n",
    "\n",
    "\n",
    "**Question**: In the last step 20, explain how was the value at v[3, 7] = 0.70 computed.\n",
    "\n"
   ]
  },
  {
   "cell_type": "code",
   "execution_count": null,
   "metadata": {
    "colab": {
     "base_uri": "https://localhost:8080/"
    },
    "id": "BKVoJTwFYXQy",
    "outputId": "407e6e2b-5ce5-4491-ac3d-029d1ab8460d"
   },
   "outputs": [],
   "source": []
  },
  {
   "cell_type": "markdown",
   "metadata": {
    "id": "4cD7LgY6Ybgv"
   },
   "source": [
    "**Question**: Look at the resulting value function, what is the optimal policy?"
   ]
  },
  {
   "cell_type": "markdown",
   "metadata": {
    "id": "ElKYn8_wpHq8"
   },
   "source": []
  },
  {
   "cell_type": "markdown",
   "metadata": {
    "id": "IazRAu_YqkI3"
   },
   "source": [
    "Let's show how the policy looks:"
   ]
  },
  {
   "cell_type": "code",
   "execution_count": null,
   "metadata": {
    "id": "uPZ_byXH8dfe"
   },
   "outputs": [],
   "source": [
    "def get_policy(problem: FrozenLake, v: np.array, gamma: float):\n",
    "  pi: np.array = np.full_like(problem.map, ' ', dtype=object)\n",
    "  # pi is now an array of characters.\n",
    "\n",
    "  # Task\n",
    "  # - update pi so it contains the best action for each state\n",
    "\n",
    "  return pi"
   ]
  },
  {
   "cell_type": "code",
   "execution_count": null,
   "metadata": {
    "colab": {
     "base_uri": "https://localhost:8080/",
     "height": 349
    },
    "id": "AIp6pXU4ro1x",
    "outputId": "8702d0d3-4b11-4742-bc61-3b8e9b7e20fc"
   },
   "outputs": [],
   "source": [
    "pi = get_policy(lake, v, GAMMA)\n",
    "plot_v(v, labels=pi)"
   ]
  },
  {
   "cell_type": "markdown",
   "metadata": {
    "id": "KYQJaBFpvNll"
   },
   "source": [
    "**Question:** Is there an alternative way that would allow us just to look at a maximum of a function to immediately tell which action to perform? (without computing the expected values)\n",
    "\n"
   ]
  },
  {
   "cell_type": "markdown",
   "metadata": {
    "id": "LxE1gW8Kyd3E"
   },
   "source": [
    "## VI robustness"
   ]
  },
  {
   "cell_type": "markdown",
   "metadata": {
    "id": "5UXiJIaNyih9"
   },
   "source": [
    "First of all, let's notice that we don't have to update all values first and then use the results. We can actually update them asynchronously in-place. Let's try that:"
   ]
  },
  {
   "cell_type": "code",
   "execution_count": null,
   "metadata": {
    "colab": {
     "base_uri": "https://localhost:8080/",
     "height": 1000
    },
    "id": "amTf2GjOy9-x",
    "outputId": "07325465-3dd7-41f0-9f63-d02f1910c181"
   },
   "outputs": [],
   "source": [
    "def value_iteration_async(problem: FrozenLake, gamma: float, threshold: float = 0.01):\n",
    "  v: np.array = np.zeros_like(problem.map, dtype=np.float32)\n",
    "  max_delta = np.inf\n",
    "\n",
    "  # Task \n",
    "  # - copy the previous function\n",
    "  # - make the updates asynchronous - don't make a copy of v\n",
    "\n",
    "  return v\n",
    "\n",
    "v = value_iteration_async(lake,  GAMMA)"
   ]
  },
  {
   "cell_type": "markdown",
   "metadata": {
    "id": "w89PSDNKzipy"
   },
   "source": [
    "Our new version converged a bit faster, cool!\n",
    "\n",
    "Another observation is that the order of updates does not matter, as long as we update all states in the end. Maybe there is some optimal order, but for now, let's just look how it goes with a random order:"
   ]
  },
  {
   "cell_type": "code",
   "execution_count": null,
   "metadata": {
    "colab": {
     "base_uri": "https://localhost:8080/",
     "height": 1000
    },
    "id": "_xfoZT9BzMyX",
    "outputId": "b23460c1-26ab-4ccd-b23b-78b8165380c4"
   },
   "outputs": [],
   "source": [
    "def value_iteration_async_random(problem: FrozenLake, gamma: float, threshold: float = 0.01):\n",
    "  v: np.array = np.zeros_like(problem.map, dtype=np.float32)\n",
    "  max_delta = np.inf\n",
    "\n",
    "  # Task \n",
    "  # - copy the previous function\n",
    "  # - update it so it takes random order of updates\n",
    "  # - you can use `random.sample()` with a complete population size to get a list permutation\n",
    "\n",
    "\n",
    "  return v\n",
    "\n",
    "v = value_iteration_async_random(lake,  GAMMA)"
   ]
  },
  {
   "cell_type": "markdown",
   "metadata": {
    "id": "77i5e4r7PB-M"
   },
   "source": [
    "Cool, still works. It can converge faster or slower, it's random afterall. \n",
    "\n",
    "VI works even for arbitrary initial values, let's try."
   ]
  },
  {
   "cell_type": "code",
   "execution_count": null,
   "metadata": {
    "colab": {
     "base_uri": "https://localhost:8080/",
     "height": 1000
    },
    "id": "Uefw3fPD2iF2",
    "outputId": "6849b94b-c6ec-4e77-b3df-749d5b427ad2"
   },
   "outputs": [],
   "source": [
    "def value_iteration_async_random_randinit(problem: FrozenLake, gamma: float, threshold: float = 0.01):\n",
    "  v: np.array = np.zeros_like(problem.map, dtype=np.float32)\n",
    "\n",
    "  # Task \n",
    "  # - copy the previous function\n",
    "  # - randomly initialize the value function uniformly in range [-1, 1]\n",
    "  \n",
    "\n",
    "  return v\n",
    "\n",
    "v = value_iteration_async_random_randinit(lake,  GAMMA)"
   ]
  },
  {
   "cell_type": "markdown",
   "metadata": {
    "id": "FPDIipxaZgMB"
   },
   "source": [
    "Nice! It still converges."
   ]
  },
  {
   "cell_type": "markdown",
   "metadata": {
    "id": "3eWmhrOK8ScH"
   },
   "source": [
    "## Contraction of the Bellman operator"
   ]
  },
  {
   "cell_type": "markdown",
   "metadata": {
    "id": "lVrQwR5tHWGj"
   },
   "source": [
    "**A bonus task - if there's time.**"
   ]
  },
  {
   "cell_type": "markdown",
   "metadata": {
    "id": "5vabU7sOzm7A"
   },
   "source": [
    "Let's prove that the Bellman operator is a contraction!\n",
    "\n",
    "We need to define some things first. Let's have an MDP with:\n",
    "- states $\\mathcal S = \\{s_1, s_2, ..., s_n\\}$\n",
    "- actions $\\mathcal A = \\{a_1, a_2, ..., a_m\\}$\n",
    "- expected reward $\\mathcal R^a_s$ in state $s$ when taking action $a$\n",
    "- probability $\\mathcal P^a_{s,s'}$ of transition $s \\xrightarrow{a} s'$\n",
    "- a discount factor $\\gamma \\in [0, 1)$\n",
    "\n",
    "Let $\\pi(a|s)$ denote the probability of taking action $a$ in state $s$ under policy $\\pi$."
   ]
  },
  {
   "cell_type": "markdown",
   "metadata": {
    "id": "YW9Q4saF0rDX"
   },
   "source": [
    "Let's define some more useful quantities. An expected reward under policy $\\pi$ is:\n",
    "$$ \\mathbf{R}_\\pi(s) = \\sum_{a \\in \\mathcal A} \\pi(a|s) \\mathcal R^a_s $$\n",
    "\n",
    "And the probability of transition under policy $\\pi$ is:\n",
    "$$ \\mathbf{P}_\\pi(s, s') = \\sum_{a \\in \\mathcal A} \\pi(a|s) \\mathcal P^a_{s, s'} $$"
   ]
  },
  {
   "cell_type": "markdown",
   "metadata": {
    "id": "AXHSbLYX1RNv"
   },
   "source": [
    "A value function is $v: \\mathcal S \\rightarrow \\mathbb R$. \n",
    "\n",
    "For the ease of notation, let's view $v$ as a vector of values $[v(s_1), v(s_2), ..., v(s_n)]$. Similarly, let's overload $\\mathbf R_\\pi = [\\mathbf R_\\pi(s_1), \\mathbf R_\\pi(s_2), ..., \\mathbf R_\\pi(s_n)]$ and $\\mathbf P_\\pi$ as a matrix $\\mathbf P_\\pi = [\\mathbf P_\\pi(s_i, s_j)]; i,j \\in \\{1..n\\}$.\n",
    "\n",
    "A value function for a policy $\\pi$ satisfies $v_\\pi = \\mathbf R_\\pi +  \\gamma \\mathbf P_\\pi v_\\pi$. \n",
    "\n",
    "<!-- An optimal value function $v_*(s) = \\max_{\\pi} v_\\pi(s), \\forall s$ satisfies $v_*(s) = \\mathbf R_\\pi(s) + \\gamma \\max_a v_*(s')$ -->"
   ]
  },
  {
   "cell_type": "markdown",
   "metadata": {
    "id": "7dprBOgw4nE3"
   },
   "source": [
    "Let $\\mathbf B_\\pi$ be a *Bellman policy operator*: $\\mathbf B_\\pi v = \\mathbf R_\\pi + \\gamma \\mathbf P_\\pi v$.\n",
    "\n",
    "Let $||\\mathbf x||_\\infty = \\max(x_1, x_2, ...)$ be a *max* norm.\n",
    "\n",
    "\n",
    "**Task:** Prove that $\\mathbf B_\\pi$ is a contraction under *max* norm, i.e. $|| \\mathbf B_\\pi v_1 - \\mathbf B_\\pi v_2||_\\infty \\leq \\gamma || v_1 - v_2 ||_\\infty$ for any $v_1, v_2$."
   ]
  },
  {
   "cell_type": "markdown",
   "metadata": {
    "id": "VBshpR_OHr8l"
   },
   "source": []
  },
  {
   "cell_type": "markdown",
   "metadata": {
    "id": "L10bZ3FsG5gb"
   },
   "source": [
    "\n",
    "\n",
    "---\n",
    "\n"
   ]
  },
  {
   "cell_type": "markdown",
   "metadata": {
    "id": "ZmxG7RygH4mZ"
   },
   "source": [
    "Since $\\mathbf B_\\pi$ is a contraction, then we can apply the Contraction Mapping Theorem (see https://en.wikipedia.org/wiki/Banach_fixed-point_theorem) to claim it has a unique fixed point, which is $v_\\pi$. \n",
    "\n",
    "Similarly, the *Bellman Optimality operator* $\\mathbf (\\mathbf B_* v)(s) = \\max_a \\left[ \\mathcal R_s^a + \\gamma \\sum_{s' \\in \\mathcal S} \\mathcal P^a_{s,s'} v(s') \\right]$ converges to $v_*$. (proof as a homework ;-))."
   ]
  }
 ],
 "metadata": {
  "colab": {
   "collapsed_sections": [],
   "name": "lab6 to-be-reviewed.ipynb",
   "provenance": []
  },
  "kernelspec": {
   "display_name": "Python 3",
   "name": "python3"
  },
  "language_info": {
   "codemirror_mode": {
    "name": "ipython",
    "version": 3
   },
   "file_extension": ".py",
   "mimetype": "text/x-python",
   "name": "python",
   "nbconvert_exporter": "python",
   "pygments_lexer": "ipython3",
   "version": "3.10.12"
  }
 },
 "nbformat": 4,
 "nbformat_minor": 0
}
