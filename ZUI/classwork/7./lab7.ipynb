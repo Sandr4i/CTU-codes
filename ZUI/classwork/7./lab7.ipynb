version https://git-lfs.github.com/spec/v1
oid sha256:006f0996ef1c1c0ff60f74d9a2ee6964f4a1423cb658e993cab709424dc21ecd
size 252349
